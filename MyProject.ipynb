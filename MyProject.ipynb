{
 "cells": [
  {
   "cell_type": "code",
   "execution_count": 2,
   "metadata": {},
   "outputs": [],
   "source": [
    "import pandas as pd\n",
    "\n",
    "data = pd.read_csv(\"data-final.csv\",delimiter='\\t')\n"
   ]
  },
  {
   "cell_type": "code",
   "execution_count": 3,
   "metadata": {},
   "outputs": [
    {
     "data": {
      "text/html": [
       "<div>\n",
       "<style scoped>\n",
       "    .dataframe tbody tr th:only-of-type {\n",
       "        vertical-align: middle;\n",
       "    }\n",
       "\n",
       "    .dataframe tbody tr th {\n",
       "        vertical-align: top;\n",
       "    }\n",
       "\n",
       "    .dataframe thead th {\n",
       "        text-align: right;\n",
       "    }\n",
       "</style>\n",
       "<table border=\"1\" class=\"dataframe\">\n",
       "  <thead>\n",
       "    <tr style=\"text-align: right;\">\n",
       "      <th></th>\n",
       "      <th>EXT1</th>\n",
       "      <th>EXT2</th>\n",
       "      <th>EXT3</th>\n",
       "      <th>EXT4</th>\n",
       "      <th>EXT5</th>\n",
       "      <th>EXT6</th>\n",
       "      <th>EXT7</th>\n",
       "      <th>EXT8</th>\n",
       "      <th>EXT9</th>\n",
       "      <th>EXT10</th>\n",
       "      <th>...</th>\n",
       "      <th>dateload</th>\n",
       "      <th>screenw</th>\n",
       "      <th>screenh</th>\n",
       "      <th>introelapse</th>\n",
       "      <th>testelapse</th>\n",
       "      <th>endelapse</th>\n",
       "      <th>IPC</th>\n",
       "      <th>country</th>\n",
       "      <th>lat_appx_lots_of_err</th>\n",
       "      <th>long_appx_lots_of_err</th>\n",
       "    </tr>\n",
       "  </thead>\n",
       "  <tbody>\n",
       "    <tr>\n",
       "      <td>0</td>\n",
       "      <td>4.0</td>\n",
       "      <td>1.0</td>\n",
       "      <td>5.0</td>\n",
       "      <td>2.0</td>\n",
       "      <td>5.0</td>\n",
       "      <td>1.0</td>\n",
       "      <td>5.0</td>\n",
       "      <td>2.0</td>\n",
       "      <td>4.0</td>\n",
       "      <td>1.0</td>\n",
       "      <td>...</td>\n",
       "      <td>2016-03-03 02:01:01</td>\n",
       "      <td>768.0</td>\n",
       "      <td>1024.0</td>\n",
       "      <td>9.0</td>\n",
       "      <td>234.0</td>\n",
       "      <td>6</td>\n",
       "      <td>1</td>\n",
       "      <td>GB</td>\n",
       "      <td>51.5448</td>\n",
       "      <td>0.1991</td>\n",
       "    </tr>\n",
       "    <tr>\n",
       "      <td>1</td>\n",
       "      <td>3.0</td>\n",
       "      <td>5.0</td>\n",
       "      <td>3.0</td>\n",
       "      <td>4.0</td>\n",
       "      <td>3.0</td>\n",
       "      <td>3.0</td>\n",
       "      <td>2.0</td>\n",
       "      <td>5.0</td>\n",
       "      <td>1.0</td>\n",
       "      <td>5.0</td>\n",
       "      <td>...</td>\n",
       "      <td>2016-03-03 02:01:20</td>\n",
       "      <td>1360.0</td>\n",
       "      <td>768.0</td>\n",
       "      <td>12.0</td>\n",
       "      <td>179.0</td>\n",
       "      <td>11</td>\n",
       "      <td>1</td>\n",
       "      <td>MY</td>\n",
       "      <td>3.1698</td>\n",
       "      <td>101.706</td>\n",
       "    </tr>\n",
       "    <tr>\n",
       "      <td>2</td>\n",
       "      <td>2.0</td>\n",
       "      <td>3.0</td>\n",
       "      <td>4.0</td>\n",
       "      <td>4.0</td>\n",
       "      <td>3.0</td>\n",
       "      <td>2.0</td>\n",
       "      <td>1.0</td>\n",
       "      <td>3.0</td>\n",
       "      <td>2.0</td>\n",
       "      <td>5.0</td>\n",
       "      <td>...</td>\n",
       "      <td>2016-03-03 02:01:56</td>\n",
       "      <td>1366.0</td>\n",
       "      <td>768.0</td>\n",
       "      <td>3.0</td>\n",
       "      <td>186.0</td>\n",
       "      <td>7</td>\n",
       "      <td>1</td>\n",
       "      <td>GB</td>\n",
       "      <td>54.9119</td>\n",
       "      <td>-1.3833</td>\n",
       "    </tr>\n",
       "    <tr>\n",
       "      <td>3</td>\n",
       "      <td>2.0</td>\n",
       "      <td>2.0</td>\n",
       "      <td>2.0</td>\n",
       "      <td>3.0</td>\n",
       "      <td>4.0</td>\n",
       "      <td>2.0</td>\n",
       "      <td>2.0</td>\n",
       "      <td>4.0</td>\n",
       "      <td>1.0</td>\n",
       "      <td>4.0</td>\n",
       "      <td>...</td>\n",
       "      <td>2016-03-03 02:02:02</td>\n",
       "      <td>1920.0</td>\n",
       "      <td>1200.0</td>\n",
       "      <td>186.0</td>\n",
       "      <td>219.0</td>\n",
       "      <td>7</td>\n",
       "      <td>1</td>\n",
       "      <td>GB</td>\n",
       "      <td>51.75</td>\n",
       "      <td>-1.25</td>\n",
       "    </tr>\n",
       "    <tr>\n",
       "      <td>4</td>\n",
       "      <td>3.0</td>\n",
       "      <td>3.0</td>\n",
       "      <td>3.0</td>\n",
       "      <td>3.0</td>\n",
       "      <td>5.0</td>\n",
       "      <td>3.0</td>\n",
       "      <td>3.0</td>\n",
       "      <td>5.0</td>\n",
       "      <td>3.0</td>\n",
       "      <td>4.0</td>\n",
       "      <td>...</td>\n",
       "      <td>2016-03-03 02:02:57</td>\n",
       "      <td>1366.0</td>\n",
       "      <td>768.0</td>\n",
       "      <td>8.0</td>\n",
       "      <td>315.0</td>\n",
       "      <td>17</td>\n",
       "      <td>2</td>\n",
       "      <td>KE</td>\n",
       "      <td>1.0</td>\n",
       "      <td>38.0</td>\n",
       "    </tr>\n",
       "  </tbody>\n",
       "</table>\n",
       "<p>5 rows × 110 columns</p>\n",
       "</div>"
      ],
      "text/plain": [
       "   EXT1  EXT2  EXT3  EXT4  EXT5  EXT6  EXT7  EXT8  EXT9  EXT10  ...  \\\n",
       "0   4.0   1.0   5.0   2.0   5.0   1.0   5.0   2.0   4.0    1.0  ...   \n",
       "1   3.0   5.0   3.0   4.0   3.0   3.0   2.0   5.0   1.0    5.0  ...   \n",
       "2   2.0   3.0   4.0   4.0   3.0   2.0   1.0   3.0   2.0    5.0  ...   \n",
       "3   2.0   2.0   2.0   3.0   4.0   2.0   2.0   4.0   1.0    4.0  ...   \n",
       "4   3.0   3.0   3.0   3.0   5.0   3.0   3.0   5.0   3.0    4.0  ...   \n",
       "\n",
       "              dateload  screenw  screenh  introelapse  testelapse  endelapse  \\\n",
       "0  2016-03-03 02:01:01    768.0   1024.0          9.0       234.0          6   \n",
       "1  2016-03-03 02:01:20   1360.0    768.0         12.0       179.0         11   \n",
       "2  2016-03-03 02:01:56   1366.0    768.0          3.0       186.0          7   \n",
       "3  2016-03-03 02:02:02   1920.0   1200.0        186.0       219.0          7   \n",
       "4  2016-03-03 02:02:57   1366.0    768.0          8.0       315.0         17   \n",
       "\n",
       "   IPC  country  lat_appx_lots_of_err  long_appx_lots_of_err  \n",
       "0    1       GB               51.5448                 0.1991  \n",
       "1    1       MY                3.1698                101.706  \n",
       "2    1       GB               54.9119                -1.3833  \n",
       "3    1       GB                 51.75                  -1.25  \n",
       "4    2       KE                   1.0                   38.0  \n",
       "\n",
       "[5 rows x 110 columns]"
      ]
     },
     "execution_count": 3,
     "metadata": {},
     "output_type": "execute_result"
    }
   ],
   "source": [
    "\n",
    "data.head()"
   ]
  },
  {
   "cell_type": "code",
   "execution_count": 4,
   "metadata": {},
   "outputs": [
    {
     "name": "stdout",
     "output_type": "stream",
     "text": [
      "<class 'pandas.core.frame.DataFrame'>\n",
      "RangeIndex: 1015341 entries, 0 to 1015340\n",
      "Columns: 110 entries, EXT1 to long_appx_lots_of_err\n",
      "dtypes: float64(104), int64(2), object(4)\n",
      "memory usage: 852.1+ MB\n"
     ]
    }
   ],
   "source": [
    "data.info()"
   ]
  },
  {
   "cell_type": "code",
   "execution_count": 7,
   "metadata": {},
   "outputs": [
    {
     "name": "stdout",
     "output_type": "stream",
     "text": [
      "(4659, 110)\n",
      "(1933, 110)\n"
     ]
    },
    {
     "data": {
      "text/plain": [
       "<matplotlib.axes._subplots.AxesSubplot at 0x7fee21020590>"
      ]
     },
     "execution_count": 7,
     "metadata": {},
     "output_type": "execute_result"
    },
    {
     "data": {
      "image/png": "[encoded data removed]",
      "text/plain": [
       "<Figure size 432x288 with 1 Axes>"
      ]
     },
     "metadata": {
      "needs_background": "light"
     },
     "output_type": "display_data"
    }
   ],
   "source": [
    "print(data[data[\"country\"] == \"PL\"].shape)\n",
    "print(data[data[\"country\"] == \"JP\"].shape)\n",
    "data[\"country\"].value_counts().nlargest(10).plot.bar()\n",
    "\n",
    "\n",
    "\n"
   ]
  },
  {
   "cell_type": "code",
   "execution_count": 10,
   "metadata": {},
   "outputs": [
    {
     "data": {
      "text/plain": [
       "<matplotlib.axes._subplots.AxesSubplot at 0x7fee1c345c90>"
      ]
     },
     "execution_count": 10,
     "metadata": {},
     "output_type": "execute_result"
    },
    {
     "data": {
      "image/png": "[encoded data removed]",
      "text/plain": [
       "<Figure size 432x288 with 1 Axes>"
      ]
     },
     "metadata": {
      "needs_background": "light"
     },
     "output_type": "display_data"
    }
   ],
   "source": [
    "series = data[\"country\"].value_counts()\n",
    "between = data[\"country\"].value_counts().between(3500,6000)\n",
    "series[between].plot.bar()\n"
   ]
  },
  {
   "cell_type": "code",
   "execution_count": 14,
   "metadata": {},
   "outputs": [
    {
     "name": "stdout",
     "output_type": "stream",
     "text": [
      "(1015341, 21)\n"
     ]
    },
    {
     "data": {
      "text/html": [
       "<div>\n",
       "<style scoped>\n",
       "    .dataframe tbody tr th:only-of-type {\n",
       "        vertical-align: middle;\n",
       "    }\n",
       "\n",
       "    .dataframe tbody tr th {\n",
       "        vertical-align: top;\n",
       "    }\n",
       "\n",
       "    .dataframe thead th {\n",
       "        text-align: right;\n",
       "    }\n",
       "</style>\n",
       "<table border=\"1\" class=\"dataframe\">\n",
       "  <thead>\n",
       "    <tr style=\"text-align: right;\">\n",
       "      <th></th>\n",
       "      <th>EXT1</th>\n",
       "      <th>EXT2</th>\n",
       "      <th>EXT3</th>\n",
       "      <th>EXT4</th>\n",
       "      <th>EXT5</th>\n",
       "      <th>EXT6</th>\n",
       "      <th>EXT7</th>\n",
       "      <th>EXT8</th>\n",
       "      <th>EXT9</th>\n",
       "      <th>EXT10</th>\n",
       "      <th>...</th>\n",
       "      <th>EST2</th>\n",
       "      <th>EST3</th>\n",
       "      <th>EST4</th>\n",
       "      <th>EST5</th>\n",
       "      <th>EST6</th>\n",
       "      <th>EST7</th>\n",
       "      <th>EST8</th>\n",
       "      <th>EST9</th>\n",
       "      <th>EST10</th>\n",
       "      <th>country</th>\n",
       "    </tr>\n",
       "  </thead>\n",
       "  <tbody>\n",
       "    <tr>\n",
       "      <td>0</td>\n",
       "      <td>4.0</td>\n",
       "      <td>1.0</td>\n",
       "      <td>5.0</td>\n",
       "      <td>2.0</td>\n",
       "      <td>5.0</td>\n",
       "      <td>1.0</td>\n",
       "      <td>5.0</td>\n",
       "      <td>2.0</td>\n",
       "      <td>4.0</td>\n",
       "      <td>1.0</td>\n",
       "      <td>...</td>\n",
       "      <td>4.0</td>\n",
       "      <td>4.0</td>\n",
       "      <td>2.0</td>\n",
       "      <td>2.0</td>\n",
       "      <td>2.0</td>\n",
       "      <td>2.0</td>\n",
       "      <td>2.0</td>\n",
       "      <td>3.0</td>\n",
       "      <td>2.0</td>\n",
       "      <td>GB</td>\n",
       "    </tr>\n",
       "    <tr>\n",
       "      <td>1</td>\n",
       "      <td>3.0</td>\n",
       "      <td>5.0</td>\n",
       "      <td>3.0</td>\n",
       "      <td>4.0</td>\n",
       "      <td>3.0</td>\n",
       "      <td>3.0</td>\n",
       "      <td>2.0</td>\n",
       "      <td>5.0</td>\n",
       "      <td>1.0</td>\n",
       "      <td>5.0</td>\n",
       "      <td>...</td>\n",
       "      <td>3.0</td>\n",
       "      <td>4.0</td>\n",
       "      <td>1.0</td>\n",
       "      <td>3.0</td>\n",
       "      <td>1.0</td>\n",
       "      <td>2.0</td>\n",
       "      <td>1.0</td>\n",
       "      <td>3.0</td>\n",
       "      <td>1.0</td>\n",
       "      <td>MY</td>\n",
       "    </tr>\n",
       "    <tr>\n",
       "      <td>2</td>\n",
       "      <td>2.0</td>\n",
       "      <td>3.0</td>\n",
       "      <td>4.0</td>\n",
       "      <td>4.0</td>\n",
       "      <td>3.0</td>\n",
       "      <td>2.0</td>\n",
       "      <td>1.0</td>\n",
       "      <td>3.0</td>\n",
       "      <td>2.0</td>\n",
       "      <td>5.0</td>\n",
       "      <td>...</td>\n",
       "      <td>4.0</td>\n",
       "      <td>4.0</td>\n",
       "      <td>2.0</td>\n",
       "      <td>2.0</td>\n",
       "      <td>2.0</td>\n",
       "      <td>2.0</td>\n",
       "      <td>2.0</td>\n",
       "      <td>1.0</td>\n",
       "      <td>3.0</td>\n",
       "      <td>GB</td>\n",
       "    </tr>\n",
       "    <tr>\n",
       "      <td>3</td>\n",
       "      <td>2.0</td>\n",
       "      <td>2.0</td>\n",
       "      <td>2.0</td>\n",
       "      <td>3.0</td>\n",
       "      <td>4.0</td>\n",
       "      <td>2.0</td>\n",
       "      <td>2.0</td>\n",
       "      <td>4.0</td>\n",
       "      <td>1.0</td>\n",
       "      <td>4.0</td>\n",
       "      <td>...</td>\n",
       "      <td>3.0</td>\n",
       "      <td>3.0</td>\n",
       "      <td>2.0</td>\n",
       "      <td>3.0</td>\n",
       "      <td>2.0</td>\n",
       "      <td>2.0</td>\n",
       "      <td>2.0</td>\n",
       "      <td>4.0</td>\n",
       "      <td>3.0</td>\n",
       "      <td>GB</td>\n",
       "    </tr>\n",
       "    <tr>\n",
       "      <td>4</td>\n",
       "      <td>3.0</td>\n",
       "      <td>3.0</td>\n",
       "      <td>3.0</td>\n",
       "      <td>3.0</td>\n",
       "      <td>5.0</td>\n",
       "      <td>3.0</td>\n",
       "      <td>3.0</td>\n",
       "      <td>5.0</td>\n",
       "      <td>3.0</td>\n",
       "      <td>4.0</td>\n",
       "      <td>...</td>\n",
       "      <td>5.0</td>\n",
       "      <td>5.0</td>\n",
       "      <td>3.0</td>\n",
       "      <td>1.0</td>\n",
       "      <td>1.0</td>\n",
       "      <td>1.0</td>\n",
       "      <td>1.0</td>\n",
       "      <td>3.0</td>\n",
       "      <td>2.0</td>\n",
       "      <td>KE</td>\n",
       "    </tr>\n",
       "  </tbody>\n",
       "</table>\n",
       "<p>5 rows × 21 columns</p>\n",
       "</div>"
      ],
      "text/plain": [
       "   EXT1  EXT2  EXT3  EXT4  EXT5  EXT6  EXT7  EXT8  EXT9  EXT10  ...  EST2  \\\n",
       "0   4.0   1.0   5.0   2.0   5.0   1.0   5.0   2.0   4.0    1.0  ...   4.0   \n",
       "1   3.0   5.0   3.0   4.0   3.0   3.0   2.0   5.0   1.0    5.0  ...   3.0   \n",
       "2   2.0   3.0   4.0   4.0   3.0   2.0   1.0   3.0   2.0    5.0  ...   4.0   \n",
       "3   2.0   2.0   2.0   3.0   4.0   2.0   2.0   4.0   1.0    4.0  ...   3.0   \n",
       "4   3.0   3.0   3.0   3.0   5.0   3.0   3.0   5.0   3.0    4.0  ...   5.0   \n",
       "\n",
       "   EST3  EST4  EST5  EST6  EST7  EST8  EST9  EST10  country  \n",
       "0   4.0   2.0   2.0   2.0   2.0   2.0   3.0    2.0       GB  \n",
       "1   4.0   1.0   3.0   1.0   2.0   1.0   3.0    1.0       MY  \n",
       "2   4.0   2.0   2.0   2.0   2.0   2.0   1.0    3.0       GB  \n",
       "3   3.0   2.0   3.0   2.0   2.0   2.0   4.0    3.0       GB  \n",
       "4   5.0   3.0   1.0   1.0   1.0   1.0   3.0    2.0       KE  \n",
       "\n",
       "[5 rows x 21 columns]"
      ]
     },
     "execution_count": 14,
     "metadata": {},
     "output_type": "execute_result"
    }
   ],
   "source": [
    "\n",
    "data2 =  data.loc[:,'EXT1':'EST10'].join(data[['country']])\n",
    "print(data2.shape)\n",
    "data2.head()\n",
    "\n",
    "\n"
   ]
  },
  {
   "cell_type": "code",
   "execution_count": 15,
   "metadata": {},
   "outputs": [
    {
     "name": "stdout",
     "output_type": "stream",
     "text": [
      "(4659, 21)\n",
      "(4659, 21)\n"
     ]
    }
   ],
   "source": [
    "data3 = data2.loc[data2['country'].isin(['PH'])].sample(n=4659)\n",
    "data4 = data2.loc[data2['country'].isin(['PL'])]\n",
    "result = pd.concat([data3,data4])\n",
    "print(result[result[\"country\"] == \"PL\"].shape)\n",
    "print(result[result[\"country\"] == \"PH\"].shape)"
   ]
  },
  {
   "cell_type": "code",
   "execution_count": 16,
   "metadata": {},
   "outputs": [
    {
     "name": "stdout",
     "output_type": "stream",
     "text": [
      "40\n",
      "        EXT1  EXT2  EXT3  EXT4  EXT5  EXT6  EXT7  EXT8  EXT9  EXT10  ...  \\\n",
      "248570   NaN   NaN   NaN   NaN   NaN   NaN   NaN   NaN   NaN    NaN  ...   \n",
      "263201   NaN   NaN   NaN   NaN   NaN   NaN   NaN   NaN   NaN    NaN  ...   \n",
      "\n",
      "        EST2  EST3  EST4  EST5  EST6  EST7  EST8  EST9  EST10  country  \n",
      "248570   NaN   NaN   NaN   NaN   NaN   NaN   NaN   NaN    NaN       PH  \n",
      "263201   NaN   NaN   NaN   NaN   NaN   NaN   NaN   NaN    NaN       PL  \n",
      "\n",
      "[2 rows x 21 columns]\n"
     ]
    }
   ],
   "source": [
    "\n",
    "print(result.isnull().values.sum())\n",
    "print(result[result.isnull().any(axis=1)])"
   ]
  },
  {
   "cell_type": "code",
   "execution_count": 17,
   "metadata": {},
   "outputs": [
    {
     "name": "stdout",
     "output_type": "stream",
     "text": [
      "(4658, 21)\n",
      "(4658, 21)\n"
     ]
    }
   ],
   "source": [
    "result = result.dropna()\n",
    "result.shape\n",
    "print(result[result[\"country\"] == \"PL\"].shape)\n",
    "print(result[result[\"country\"] == \"PH\"].shape)"
   ]
  },
  {
   "cell_type": "code",
   "execution_count": 18,
   "metadata": {},
   "outputs": [
    {
     "name": "stdout",
     "output_type": "stream",
     "text": [
      "[[0]\n",
      " [0]\n",
      " [0]\n",
      " ...\n",
      " [1]\n",
      " [1]\n",
      " [1]]\n"
     ]
    }
   ],
   "source": [
    "\n",
    "X = result.drop('country',axis=1).values\n",
    "y = result['country'].values\n",
    "from sklearn import preprocessing\n",
    "import numpy as np\n",
    "import tensorflow as tf\n",
    "lb = preprocessing.LabelBinarizer()\n",
    "y = lb.fit_transform(y)\n",
    "print(y)"
   ]
  },
  {
   "cell_type": "code",
   "execution_count": 19,
   "metadata": {},
   "outputs": [
    {
     "data": {
      "text/plain": [
       "<matplotlib.axes._subplots.AxesSubplot at 0x7fed6542d810>"
      ]
     },
     "execution_count": 19,
     "metadata": {},
     "output_type": "execute_result"
    },
    {
     "data": {
      "image/png": "[encoded data removed]",
      "text/plain": [
       "<Figure size 432x288 with 1 Axes>"
      ]
     },
     "metadata": {
      "needs_background": "light"
     },
     "output_type": "display_data"
    }
   ],
   "source": [
    "import seaborn as sns\n",
    "sns.countplot(x='country', data = result)"
   ]
  },
  {
   "cell_type": "code",
   "execution_count": 20,
   "metadata": {},
   "outputs": [],
   "source": [
    "from sklearn.model_selection import train_test_split\n",
    "X_train, X_test, y_train, y_test = train_test_split(X, y, test_size=0.30, random_state=101)"
   ]
  },
  {
   "cell_type": "code",
   "execution_count": 21,
   "metadata": {},
   "outputs": [
    {
     "name": "stdout",
     "output_type": "stream",
     "text": [
      "[[0.6 0.8 0.6 ... 0.6 0.8 0.4]\n",
      " [0.2 1.  0.6 ... 0.6 0.2 1. ]\n",
      " [0.2 0.2 0.6 ... 0.6 0.8 0.6]\n",
      " ...\n",
      " [0.6 0.4 0.8 ... 0.8 0.8 0.6]\n",
      " [0.8 0.8 0.8 ... 0.4 0.8 0.4]\n",
      " [0.6 1.  0.6 ... 0.2 0.6 0.2]]\n"
     ]
    }
   ],
   "source": [
    "from sklearn.preprocessing import MinMaxScaler\n",
    "scaler = MinMaxScaler()\n",
    "X_train = scaler.fit_transform(X_train)\n",
    "X_test = scaler.transform(X_test)\n",
    "print(X_train)"
   ]
  },
  {
   "cell_type": "code",
   "execution_count": 42,
   "metadata": {},
   "outputs": [
    {
     "name": "stdout",
     "output_type": "stream",
     "text": [
      "Epoch 1/100\n",
      "51/51 [==============================] - 0s 4ms/step - loss: 0.7195 - accuracy: 0.5114 - val_loss: 0.6933 - val_accuracy: 0.5116\n",
      "Epoch 2/100\n",
      "51/51 [==============================] - 0s 2ms/step - loss: 0.6949 - accuracy: 0.5051 - val_loss: 0.6928 - val_accuracy: 0.5113\n",
      "Epoch 3/100\n",
      "51/51 [==============================] - 0s 2ms/step - loss: 0.6941 - accuracy: 0.5035 - val_loss: 0.6926 - val_accuracy: 0.5106\n",
      "Epoch 4/100\n",
      "51/51 [==============================] - 0s 2ms/step - loss: 0.6945 - accuracy: 0.4950 - val_loss: 0.6928 - val_accuracy: 0.5045\n",
      "Epoch 5/100\n",
      "51/51 [==============================] - 0s 2ms/step - loss: 0.6931 - accuracy: 0.4970 - val_loss: 0.6923 - val_accuracy: 0.5066\n",
      "Epoch 6/100\n",
      "51/51 [==============================] - 0s 2ms/step - loss: 0.6927 - accuracy: 0.5047 - val_loss: 0.6919 - val_accuracy: 0.5352\n",
      "Epoch 7/100\n",
      "51/51 [==============================] - 0s 2ms/step - loss: 0.6913 - accuracy: 0.5301 - val_loss: 0.6893 - val_accuracy: 0.5571\n",
      "Epoch 8/100\n",
      "51/51 [==============================] - 0s 2ms/step - loss: 0.6911 - accuracy: 0.5197 - val_loss: 0.6854 - val_accuracy: 0.5825\n",
      "Epoch 9/100\n",
      "51/51 [==============================] - 0s 2ms/step - loss: 0.6864 - accuracy: 0.5530 - val_loss: 0.6798 - val_accuracy: 0.5989\n",
      "Epoch 10/100\n",
      "51/51 [==============================] - 0s 2ms/step - loss: 0.6843 - accuracy: 0.5564 - val_loss: 0.6702 - val_accuracy: 0.6254\n",
      "Epoch 11/100\n",
      "51/51 [==============================] - 0s 2ms/step - loss: 0.6802 - accuracy: 0.5622 - val_loss: 0.6661 - val_accuracy: 0.6376\n",
      "Epoch 12/100\n",
      "51/51 [==============================] - 0s 3ms/step - loss: 0.6735 - accuracy: 0.5901 - val_loss: 0.6573 - val_accuracy: 0.6497\n",
      "Epoch 13/100\n",
      "51/51 [==============================] - 0s 2ms/step - loss: 0.6714 - accuracy: 0.5832 - val_loss: 0.6539 - val_accuracy: 0.6501\n",
      "Epoch 14/100\n",
      "51/51 [==============================] - 0s 2ms/step - loss: 0.6618 - accuracy: 0.6034 - val_loss: 0.6386 - val_accuracy: 0.6644\n",
      "Epoch 15/100\n",
      "51/51 [==============================] - 0s 2ms/step - loss: 0.6596 - accuracy: 0.6036 - val_loss: 0.6312 - val_accuracy: 0.6741\n",
      "Epoch 16/100\n",
      "51/51 [==============================] - 0s 3ms/step - loss: 0.6547 - accuracy: 0.6117 - val_loss: 0.6304 - val_accuracy: 0.6676\n",
      "Epoch 17/100\n",
      "51/51 [==============================] - 0s 2ms/step - loss: 0.6496 - accuracy: 0.6284 - val_loss: 0.6203 - val_accuracy: 0.6816\n",
      "Epoch 18/100\n",
      "51/51 [==============================] - 0s 3ms/step - loss: 0.6435 - accuracy: 0.6306 - val_loss: 0.6124 - val_accuracy: 0.6987\n",
      "Epoch 19/100\n",
      "51/51 [==============================] - 0s 3ms/step - loss: 0.6397 - accuracy: 0.6407 - val_loss: 0.6050 - val_accuracy: 0.7016\n",
      "Epoch 20/100\n",
      "51/51 [==============================] - 0s 2ms/step - loss: 0.6379 - accuracy: 0.6366 - val_loss: 0.6008 - val_accuracy: 0.7063\n",
      "Epoch 21/100\n",
      "51/51 [==============================] - 0s 3ms/step - loss: 0.6326 - accuracy: 0.6496 - val_loss: 0.5983 - val_accuracy: 0.7077\n",
      "Epoch 22/100\n",
      "51/51 [==============================] - 0s 3ms/step - loss: 0.6302 - accuracy: 0.6522 - val_loss: 0.5977 - val_accuracy: 0.7148\n",
      "Epoch 23/100\n",
      "51/51 [==============================] - 0s 3ms/step - loss: 0.6272 - accuracy: 0.6499 - val_loss: 0.5961 - val_accuracy: 0.7070\n",
      "Epoch 24/100\n",
      "51/51 [==============================] - 0s 2ms/step - loss: 0.6243 - accuracy: 0.6608 - val_loss: 0.5935 - val_accuracy: 0.7055\n",
      "Epoch 25/100\n",
      "51/51 [==============================] - 0s 3ms/step - loss: 0.6296 - accuracy: 0.6499 - val_loss: 0.5924 - val_accuracy: 0.7063\n",
      "Epoch 26/100\n",
      "51/51 [==============================] - 0s 2ms/step - loss: 0.6213 - accuracy: 0.6612 - val_loss: 0.5831 - val_accuracy: 0.7159\n",
      "Epoch 27/100\n",
      "51/51 [==============================] - 0s 3ms/step - loss: 0.6277 - accuracy: 0.6553 - val_loss: 0.5886 - val_accuracy: 0.7131\n",
      "Epoch 28/100\n",
      "51/51 [==============================] - 0s 3ms/step - loss: 0.6204 - accuracy: 0.6611 - val_loss: 0.5840 - val_accuracy: 0.7170\n",
      "Epoch 29/100\n",
      "51/51 [==============================] - 0s 2ms/step - loss: 0.6173 - accuracy: 0.6675 - val_loss: 0.5858 - val_accuracy: 0.7131\n",
      "Epoch 30/100\n",
      "51/51 [==============================] - 0s 3ms/step - loss: 0.6174 - accuracy: 0.6637 - val_loss: 0.5889 - val_accuracy: 0.7005\n",
      "Epoch 31/100\n",
      "51/51 [==============================] - 0s 2ms/step - loss: 0.6206 - accuracy: 0.6646 - val_loss: 0.5800 - val_accuracy: 0.7199\n",
      "Epoch 32/100\n",
      "51/51 [==============================] - 0s 2ms/step - loss: 0.6177 - accuracy: 0.6694 - val_loss: 0.5775 - val_accuracy: 0.7177\n",
      "Epoch 33/100\n",
      "51/51 [==============================] - 0s 3ms/step - loss: 0.6171 - accuracy: 0.6632 - val_loss: 0.5799 - val_accuracy: 0.7170\n",
      "Epoch 34/100\n",
      "51/51 [==============================] - 0s 2ms/step - loss: 0.6142 - accuracy: 0.6671 - val_loss: 0.5806 - val_accuracy: 0.7184\n",
      "Epoch 35/100\n",
      "51/51 [==============================] - 0s 2ms/step - loss: 0.6158 - accuracy: 0.6714 - val_loss: 0.5770 - val_accuracy: 0.7209\n",
      "Epoch 36/100\n",
      "51/51 [==============================] - 0s 3ms/step - loss: 0.6099 - accuracy: 0.6718 - val_loss: 0.5749 - val_accuracy: 0.7209\n",
      "Epoch 37/100\n",
      "51/51 [==============================] - 0s 2ms/step - loss: 0.6108 - accuracy: 0.6695 - val_loss: 0.5766 - val_accuracy: 0.7227\n",
      "Epoch 38/100\n",
      "51/51 [==============================] - 0s 2ms/step - loss: 0.6096 - accuracy: 0.6754 - val_loss: 0.5821 - val_accuracy: 0.7138\n",
      "Epoch 39/100\n",
      "51/51 [==============================] - 0s 2ms/step - loss: 0.6104 - accuracy: 0.6717 - val_loss: 0.5735 - val_accuracy: 0.7170\n",
      "Epoch 40/100\n",
      "51/51 [==============================] - 0s 2ms/step - loss: 0.6066 - accuracy: 0.6777 - val_loss: 0.5709 - val_accuracy: 0.7181\n",
      "Epoch 41/100\n",
      "51/51 [==============================] - 0s 2ms/step - loss: 0.6072 - accuracy: 0.6820 - val_loss: 0.5708 - val_accuracy: 0.7206\n",
      "Epoch 42/100\n",
      "51/51 [==============================] - 0s 2ms/step - loss: 0.6084 - accuracy: 0.6764 - val_loss: 0.5729 - val_accuracy: 0.7188\n",
      "Epoch 43/100\n",
      "51/51 [==============================] - 0s 2ms/step - loss: 0.6057 - accuracy: 0.6789 - val_loss: 0.5765 - val_accuracy: 0.7127\n",
      "Epoch 44/100\n",
      "51/51 [==============================] - 0s 3ms/step - loss: 0.6032 - accuracy: 0.6833 - val_loss: 0.5714 - val_accuracy: 0.7191\n",
      "Epoch 45/100\n",
      "51/51 [==============================] - 0s 3ms/step - loss: 0.6079 - accuracy: 0.6836 - val_loss: 0.5747 - val_accuracy: 0.7206\n",
      "Epoch 46/100\n",
      "51/51 [==============================] - 0s 2ms/step - loss: 0.6020 - accuracy: 0.6778 - val_loss: 0.5690 - val_accuracy: 0.7227\n",
      "Epoch 47/100\n",
      "51/51 [==============================] - 0s 3ms/step - loss: 0.6073 - accuracy: 0.6892 - val_loss: 0.5709 - val_accuracy: 0.7195\n",
      "Epoch 48/100\n",
      "51/51 [==============================] - 0s 2ms/step - loss: 0.6017 - accuracy: 0.6855 - val_loss: 0.5701 - val_accuracy: 0.7242\n",
      "Epoch 49/100\n",
      "51/51 [==============================] - 0s 3ms/step - loss: 0.6041 - accuracy: 0.6820 - val_loss: 0.5710 - val_accuracy: 0.7213\n",
      "Epoch 50/100\n",
      "51/51 [==============================] - 0s 3ms/step - loss: 0.6045 - accuracy: 0.6816 - val_loss: 0.5724 - val_accuracy: 0.7174\n",
      "Epoch 51/100\n",
      "51/51 [==============================] - 0s 3ms/step - loss: 0.6041 - accuracy: 0.6872 - val_loss: 0.5684 - val_accuracy: 0.7252\n",
      "Epoch 52/100\n",
      "51/51 [==============================] - 0s 3ms/step - loss: 0.6032 - accuracy: 0.6793 - val_loss: 0.5668 - val_accuracy: 0.7292\n",
      "Epoch 53/100\n",
      "51/51 [==============================] - 0s 3ms/step - loss: 0.6024 - accuracy: 0.6820 - val_loss: 0.5686 - val_accuracy: 0.7220\n",
      "Epoch 54/100\n",
      "51/51 [==============================] - 0s 2ms/step - loss: 0.6040 - accuracy: 0.6749 - val_loss: 0.5726 - val_accuracy: 0.7191\n",
      "Epoch 55/100\n",
      "51/51 [==============================] - 0s 3ms/step - loss: 0.6019 - accuracy: 0.6902 - val_loss: 0.5711 - val_accuracy: 0.7220\n",
      "Epoch 56/100\n",
      "51/51 [==============================] - 0s 2ms/step - loss: 0.6006 - accuracy: 0.6885 - val_loss: 0.5668 - val_accuracy: 0.7277\n",
      "Epoch 57/100\n",
      "51/51 [==============================] - 0s 3ms/step - loss: 0.6032 - accuracy: 0.6850 - val_loss: 0.5708 - val_accuracy: 0.7202\n",
      "Epoch 58/100\n",
      "51/51 [==============================] - 0s 4ms/step - loss: 0.6015 - accuracy: 0.6884 - val_loss: 0.5682 - val_accuracy: 0.7270\n"
     ]
    },
    {
     "name": "stdout",
     "output_type": "stream",
     "text": [
      "Epoch 59/100\n",
      "51/51 [==============================] - 0s 3ms/step - loss: 0.6047 - accuracy: 0.6861 - val_loss: 0.5711 - val_accuracy: 0.7224\n",
      "Epoch 60/100\n",
      "51/51 [==============================] - 0s 2ms/step - loss: 0.6002 - accuracy: 0.6861 - val_loss: 0.5658 - val_accuracy: 0.7281\n",
      "Epoch 61/100\n",
      "51/51 [==============================] - 0s 2ms/step - loss: 0.5966 - accuracy: 0.6954 - val_loss: 0.5653 - val_accuracy: 0.7249\n",
      "Epoch 62/100\n",
      "51/51 [==============================] - 0s 3ms/step - loss: 0.6019 - accuracy: 0.6896 - val_loss: 0.5722 - val_accuracy: 0.7191\n",
      "Epoch 63/100\n",
      "51/51 [==============================] - 0s 3ms/step - loss: 0.6011 - accuracy: 0.6839 - val_loss: 0.5709 - val_accuracy: 0.7170\n",
      "Epoch 64/100\n",
      "51/51 [==============================] - 0s 2ms/step - loss: 0.5954 - accuracy: 0.6959 - val_loss: 0.5659 - val_accuracy: 0.7249\n",
      "Epoch 65/100\n",
      "51/51 [==============================] - 0s 2ms/step - loss: 0.5944 - accuracy: 0.6945 - val_loss: 0.5637 - val_accuracy: 0.7281\n",
      "Epoch 66/100\n",
      "51/51 [==============================] - 0s 3ms/step - loss: 0.5962 - accuracy: 0.6958 - val_loss: 0.5680 - val_accuracy: 0.7234\n",
      "Epoch 67/100\n",
      "51/51 [==============================] - 0s 3ms/step - loss: 0.5930 - accuracy: 0.6904 - val_loss: 0.5643 - val_accuracy: 0.7220\n",
      "Epoch 68/100\n",
      "51/51 [==============================] - 0s 2ms/step - loss: 0.5995 - accuracy: 0.6918 - val_loss: 0.5658 - val_accuracy: 0.7242\n",
      "Epoch 69/100\n",
      "51/51 [==============================] - 0s 3ms/step - loss: 0.5997 - accuracy: 0.6873 - val_loss: 0.5650 - val_accuracy: 0.7195\n",
      "Epoch 70/100\n",
      "51/51 [==============================] - 0s 3ms/step - loss: 0.5999 - accuracy: 0.6938 - val_loss: 0.5641 - val_accuracy: 0.7259\n",
      "Epoch 71/100\n",
      "51/51 [==============================] - 0s 2ms/step - loss: 0.5986 - accuracy: 0.6950 - val_loss: 0.5669 - val_accuracy: 0.7209\n",
      "Epoch 72/100\n",
      "51/51 [==============================] - 0s 3ms/step - loss: 0.5902 - accuracy: 0.6974 - val_loss: 0.5686 - val_accuracy: 0.7209\n",
      "Epoch 73/100\n",
      "51/51 [==============================] - 0s 2ms/step - loss: 0.5961 - accuracy: 0.6985 - val_loss: 0.5691 - val_accuracy: 0.7202\n",
      "Epoch 74/100\n",
      "51/51 [==============================] - 0s 3ms/step - loss: 0.5947 - accuracy: 0.6959 - val_loss: 0.5669 - val_accuracy: 0.7202\n",
      "Epoch 75/100\n",
      "51/51 [==============================] - 0s 3ms/step - loss: 0.5952 - accuracy: 0.6951 - val_loss: 0.5672 - val_accuracy: 0.7191\n",
      "Epoch 76/100\n",
      "51/51 [==============================] - 0s 2ms/step - loss: 0.5965 - accuracy: 0.6984 - val_loss: 0.5625 - val_accuracy: 0.7191\n",
      "Epoch 77/100\n",
      "51/51 [==============================] - 0s 2ms/step - loss: 0.5930 - accuracy: 0.6974 - val_loss: 0.5644 - val_accuracy: 0.7188\n",
      "Epoch 78/100\n",
      "51/51 [==============================] - 0s 2ms/step - loss: 0.5900 - accuracy: 0.6935 - val_loss: 0.5646 - val_accuracy: 0.7181\n",
      "Epoch 79/100\n",
      "51/51 [==============================] - 0s 2ms/step - loss: 0.5921 - accuracy: 0.6941 - val_loss: 0.5656 - val_accuracy: 0.7184\n",
      "Epoch 80/100\n",
      "51/51 [==============================] - 0s 2ms/step - loss: 0.5929 - accuracy: 0.6927 - val_loss: 0.5612 - val_accuracy: 0.7206\n",
      "Epoch 81/100\n",
      "51/51 [==============================] - 0s 2ms/step - loss: 0.5924 - accuracy: 0.7014 - val_loss: 0.5628 - val_accuracy: 0.7242\n",
      "Epoch 82/100\n",
      "51/51 [==============================] - 0s 2ms/step - loss: 0.5909 - accuracy: 0.6997 - val_loss: 0.5650 - val_accuracy: 0.7202\n",
      "Epoch 83/100\n",
      "51/51 [==============================] - 0s 2ms/step - loss: 0.5980 - accuracy: 0.6959 - val_loss: 0.5625 - val_accuracy: 0.7224\n",
      "Epoch 84/100\n",
      "51/51 [==============================] - 0s 2ms/step - loss: 0.5880 - accuracy: 0.6951 - val_loss: 0.5607 - val_accuracy: 0.7252\n",
      "Epoch 85/100\n",
      "51/51 [==============================] - 0s 2ms/step - loss: 0.5903 - accuracy: 0.6927 - val_loss: 0.5614 - val_accuracy: 0.7231\n",
      "Epoch 86/100\n",
      "51/51 [==============================] - 0s 2ms/step - loss: 0.5931 - accuracy: 0.6971 - val_loss: 0.5600 - val_accuracy: 0.7320\n",
      "Epoch 87/100\n",
      "51/51 [==============================] - 0s 2ms/step - loss: 0.5882 - accuracy: 0.6948 - val_loss: 0.5646 - val_accuracy: 0.7220\n",
      "Epoch 88/100\n",
      "51/51 [==============================] - 0s 2ms/step - loss: 0.5909 - accuracy: 0.6985 - val_loss: 0.5615 - val_accuracy: 0.7238\n",
      "Epoch 89/100\n",
      "51/51 [==============================] - 0s 2ms/step - loss: 0.5795 - accuracy: 0.7036 - val_loss: 0.5601 - val_accuracy: 0.7209\n",
      "Epoch 90/100\n",
      "51/51 [==============================] - 0s 2ms/step - loss: 0.5938 - accuracy: 0.6896 - val_loss: 0.5641 - val_accuracy: 0.7216\n",
      "Epoch 91/100\n",
      "51/51 [==============================] - 0s 2ms/step - loss: 0.5858 - accuracy: 0.6973 - val_loss: 0.5583 - val_accuracy: 0.7245\n",
      "Epoch 92/100\n",
      "51/51 [==============================] - 0s 2ms/step - loss: 0.5918 - accuracy: 0.7013 - val_loss: 0.5625 - val_accuracy: 0.7224\n",
      "Epoch 93/100\n",
      "51/51 [==============================] - 0s 2ms/step - loss: 0.5890 - accuracy: 0.6999 - val_loss: 0.5625 - val_accuracy: 0.7216\n",
      "Epoch 94/100\n",
      "51/51 [==============================] - 0s 2ms/step - loss: 0.5851 - accuracy: 0.7016 - val_loss: 0.5602 - val_accuracy: 0.7295\n",
      "Epoch 95/100\n",
      "51/51 [==============================] - 0s 2ms/step - loss: 0.5887 - accuracy: 0.7022 - val_loss: 0.5593 - val_accuracy: 0.7284\n",
      "Epoch 96/100\n",
      "51/51 [==============================] - 0s 2ms/step - loss: 0.5879 - accuracy: 0.7008 - val_loss: 0.5602 - val_accuracy: 0.7234\n",
      "Epoch 97/100\n",
      "51/51 [==============================] - 0s 2ms/step - loss: 0.5885 - accuracy: 0.7017 - val_loss: 0.5687 - val_accuracy: 0.7152\n",
      "Epoch 98/100\n",
      "51/51 [==============================] - 0s 3ms/step - loss: 0.5913 - accuracy: 0.6915 - val_loss: 0.5599 - val_accuracy: 0.7249\n",
      "Epoch 99/100\n",
      "51/51 [==============================] - 0s 4ms/step - loss: 0.5912 - accuracy: 0.6990 - val_loss: 0.5650 - val_accuracy: 0.7206\n",
      "Epoch 100/100\n",
      "51/51 [==============================] - 0s 3ms/step - loss: 0.5868 - accuracy: 0.7051 - val_loss: 0.5705 - val_accuracy: 0.7106\n"
     ]
    },
    {
     "data": {
      "text/plain": [
       "<tensorflow.python.keras.callbacks.History at 0x7fed1c6926d0>"
      ]
     },
     "execution_count": 42,
     "metadata": {},
     "output_type": "execute_result"
    }
   ],
   "source": [
    "import tensorflow as tf\n",
    "from tensorflow.keras.models import Sequential\n",
    "from tensorflow.keras.layers import Dense, Activation,Dropout,Flatten\n",
    "from tensorflow.keras.constraints import max_norm\n",
    "from sklearn.model_selection import cross_val_score\n",
    "from sklearn.preprocessing import LabelEncoder\n",
    "from sklearn.model_selection import StratifiedKFold\n",
    "\n",
    "model = Sequential()\n",
    "\n",
    "\n",
    "\n",
    "\n",
    "\n",
    "model.add(Dense(20,  activation='relu'))\n",
    "model.add(Dropout(0.2))\n",
    "\n",
    "\n",
    "model.add(Dense(6, activation='relu'))\n",
    "model.add(Dropout(0.2))\n",
    "\n",
    "\n",
    "model.add(Dense(3, activation='relu'))\n",
    "model.add(Dropout(0.2))\n",
    "\n",
    "\n",
    "model.add(Dense(units=1,activation='sigmoid'))\n",
    "\n",
    "\n",
    "model.compile(loss='binary_crossentropy', optimizer='adam',metrics=['accuracy'])\n",
    "\n",
    "model.fit(x=X_train, \n",
    "          y=y_train, \n",
    "          batch_size=128,\n",
    "          epochs=100,\n",
    "          validation_data=(X_test, y_test)\n",
    "          )"
   ]
  },
  {
   "cell_type": "code",
   "execution_count": 43,
   "metadata": {},
   "outputs": [
    {
     "data": {
      "text/plain": [
       "<matplotlib.axes._subplots.AxesSubplot at 0x7fed1c5ea450>"
      ]
     },
     "execution_count": 43,
     "metadata": {},
     "output_type": "execute_result"
    },
    {
     "data": {
      "image/png": "[encoded data removed]",
      "text/plain": [
       "<Figure size 432x288 with 1 Axes>"
      ]
     },
     "metadata": {
      "needs_background": "light"
     },
     "output_type": "display_data"
    }
   ],
   "source": [
    "model_loss = pd.DataFrame(model.history.history)\n",
    "model_loss.plot()"
   ]
  },
  {
   "cell_type": "code",
   "execution_count": 51,
   "metadata": {},
   "outputs": [
    {
     "name": "stdout",
     "output_type": "stream",
     "text": [
      "              precision    recall  f1-score   support\n",
      "\n",
      "           0       0.77      0.61      0.68      1399\n",
      "           1       0.67      0.81      0.74      1396\n",
      "\n",
      "    accuracy                           0.71      2795\n",
      "   macro avg       0.72      0.71      0.71      2795\n",
      "weighted avg       0.72      0.71      0.71      2795\n",
      "\n"
     ]
    }
   ],
   "source": [
    "from sklearn.metrics import classification_report,confusion_matrix,roc_curve,auc\n",
    "predictions = model.predict_classes(X_test)\n",
    "print(classification_report(y_test,predictions))"
   ]
  },
  {
   "cell_type": "code",
   "execution_count": 55,
   "metadata": {},
   "outputs": [
    {
     "data": {
      "image/png": "[encoded data removed]",
      "text/plain": [
       "<Figure size 432x288 with 1 Axes>"
      ]
     },
     "metadata": {
      "needs_background": "light"
     },
     "output_type": "display_data"
    }
   ],
   "source": [
    "confusion_matrix(y_test,predictions)\n",
    "\n",
    "fpr, tpr, thresholds = roc_curve(predictions, y_test)\n",
    "roc_auc = auc(fpr, tpr)\n",
    "\n",
    "plt.figure()\n",
    "plt.plot(fpr, tpr, color='darkorange',  label='ROC curve (area = %0.2f)' % roc_auc)\n",
    "plt.plot([0, 1], [0, 1], color='navy',  linestyle='--')\n",
    "plt.xlim([0.0, 1.0])\n",
    "plt.ylim([0.0, 1.05])\n",
    "plt.xlabel('False Positive Rate')\n",
    "plt.ylabel('True Positive Rate')\n",
    "plt.title('Roc curve ')\n",
    "plt.legend(loc=\"lower right\")\n",
    "plt.show()"
   ]
  },
  {
   "cell_type": "code",
   "execution_count": 56,
   "metadata": {},
   "outputs": [],
   "source": [
    "from sklearn.linear_model import LogisticRegression"
   ]
  },
  {
   "cell_type": "code",
   "execution_count": 57,
   "metadata": {},
   "outputs": [
    {
     "name": "stderr",
     "output_type": "stream",
     "text": [
      "/home/piotr/anaconda3/lib/python3.7/site-packages/sklearn/linear_model/logistic.py:432: FutureWarning: Default solver will be changed to 'lbfgs' in 0.22. Specify a solver to silence this warning.\n",
      "  FutureWarning)\n"
     ]
    }
   ],
   "source": [
    "logmodel = LogisticRegression()\n",
    "logmodel.fit(X_train,y_train.ravel())\n",
    "predictions = logmodel.predict(X_test)"
   ]
  },
  {
   "cell_type": "code",
   "execution_count": 58,
   "metadata": {},
   "outputs": [
    {
     "name": "stdout",
     "output_type": "stream",
     "text": [
      "              precision    recall  f1-score   support\n",
      "\n",
      "           0       0.67      0.67      0.67      1399\n",
      "           1       0.67      0.66      0.67      1396\n",
      "\n",
      "    accuracy                           0.67      2795\n",
      "   macro avg       0.67      0.67      0.67      2795\n",
      "weighted avg       0.67      0.67      0.67      2795\n",
      "\n"
     ]
    },
    {
     "data": {
      "text/plain": [
       "array([[942, 457],\n",
       "       [472, 924]])"
      ]
     },
     "execution_count": 58,
     "metadata": {},
     "output_type": "execute_result"
    }
   ],
   "source": [
    "from sklearn.metrics import classification_report, confusion_matrix\n",
    "print(classification_report(y_test,predictions))\n",
    "confusion_matrix(y_test,predictions)"
   ]
  },
  {
   "cell_type": "code",
   "execution_count": 61,
   "metadata": {},
   "outputs": [
    {
     "data": {
      "image/png": "[encoded data removed]",
      "text/plain": [
       "<Figure size 432x288 with 1 Axes>"
      ]
     },
     "metadata": {
      "needs_background": "light"
     },
     "output_type": "display_data"
    }
   ],
   "source": [
    "confusion_matrix(y_test,predictions)\n",
    "\n",
    "fpr, tpr, thresholds = roc_curve(predictions, y_test)\n",
    "roc_auc = auc(fpr, tpr)\n",
    "\n",
    "plt.figure()\n",
    "plt.plot(fpr, tpr, color='darkorange',  label='ROC curve (area = %0.2f)' % roc_auc)\n",
    "plt.plot([0, 1], [0, 1], color='navy',  linestyle='--')\n",
    "plt.xlim([0.0, 1.0])\n",
    "plt.ylim([0.0, 1.05])\n",
    "plt.xlabel('False Positive Rate')\n",
    "plt.ylabel('True Positive Rate')\n",
    "plt.title('Roc curve ')\n",
    "plt.legend(loc=\"lower right\")\n",
    "plt.show()"
   ]
  },
  {
   "cell_type": "code",
   "execution_count": null,
   "metadata": {},
   "outputs": [],
   "source": []
  }
 ],
 "metadata": {
  "kernelspec": {
   "display_name": "Python 3",
   "language": "python",
   "name": "python3"
  },
  "language_info": {
   "codemirror_mode": {
    "name": "ipython",
    "version": 3
   },
   "file_extension": ".py",
   "mimetype": "text/x-python",
   "name": "python",
   "nbconvert_exporter": "python",
   "pygments_lexer": "ipython3",
   "version": "3.7.4"
  }
 },
 "nbformat": 4,
 "nbformat_minor": 2
}
